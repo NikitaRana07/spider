{
 "cells": [
  {
   "cell_type": "code",
   "execution_count": 1,
   "metadata": {},
   "outputs": [],
   "source": [
    "from bs4 import BeautifulSoup\n",
    "import requests\n",
    "import pandas as pd"
   ]
  },
  {
   "cell_type": "code",
   "execution_count": 2,
   "metadata": {},
   "outputs": [
    {
     "name": "stdout",
     "output_type": "stream",
     "text": [
      "[[], ['1', '131', 'Brian Luckhurst', 'England', '301', '1', 'Australia', '11 December 1970', 'Drawn'], ['2', '171', 'Ian Redpath', 'Australia', '372', '2', 'England', '11 December 1970', 'Drawn'], ['3', '108', 'Greg Chappell', 'Australia', '218', '2', 'England', '11 December 1970', 'Drawn'], ['4', '115*', 'John Edrich', 'England', '332', '3', 'Australia', '11 December 1970', 'Drawn'], ['5', '115', 'Ross Edwards', 'Australia', '252', '2', 'England', '13 December 1974', 'Won'], ['6', '103', 'Doug Walters', 'Australia', '119', '2', 'England', '13 December 1974', 'Won'], ['7', '156', 'Ian Chappell', 'Australia', '261', '1', 'West Indies', '12 December 1975', 'Lost'], ['8', '169', 'Roy Fredericks', 'West Indies', '145', '2', 'Australia', '12 December 1975', 'Won'], ['9', '149', 'Clive Lloyd', 'West Indies', '186', '2', 'Australia', '12 December 1975', 'Won'], ['10', '176', 'Bob Simpson', 'Australia', '355', '2', 'India', '16 December 1977', 'Won'], ['11', '127', 'Sunil Gavaskar', 'India', '245', '3', 'Australia', '16 December 1977', 'Lost'], ['12', '100', 'Mohinder Amarnath', 'India', '175', '3', 'Australia', '16 December 1977', 'Lost'], ['13', '105', 'Tony Mann', 'Australia', '165', '4', 'India', '16 December 1977', 'Won'], ['14', '102', 'David Gower', 'England', '221', '1', 'Australia', '15 December 1978', 'Won'], ['15', '129*', 'Javed Miandad', 'Pakistan', '276', '1', 'Australia', '24 March 1979', 'Lost'], ['16', '134*', 'Asif Iqbal', 'Pakistan', '280', '3', 'Australia', '24 March 1979', 'Lost'], ['17', '115', 'Allan Border', 'Australia', '296', '3', 'England', '14 December 1979', 'Won'], ['18', '106', 'Kim Hughes', 'Australia', '198', '3', 'Pakistan', '13 November 1981', 'Won'], ['19', '117', 'Greg Chappell', 'Australia', '174', '2', 'England', '12 November 1982', 'Drawn'], ['20', '115', 'Derek Randall', 'England', '215', '3', 'Australia', '12 November 1982', 'Drawn'], ['21', '159', 'Wayne Phillips', 'Australia', '246', '1', 'Pakistan', '11 November 1983', 'Won'], ['22', '141', 'Graham Yallop', 'Australia', '274', '1', 'Pakistan', '11 November 1983', 'Won'], ['23', '127', 'Larry Gomes', 'West Indies', '297', '1', 'Australia', '9 November 1984', 'Won'], ['24', '139', 'Jeff Dujon', 'West Indies', '158', '1', 'Australia', '9 November 1984', 'Won'], ['25', '162', 'Chris Broad', 'England', '313', '1', 'Australia', '28 November 1986', 'Drawn'], ['26', '136', 'David Gower', 'England', '175', '1', 'Australia', '28 November 1986', 'Drawn'], ['27', '133', 'Jack Richards', 'England', '207', '1', 'Australia', '28 November 1986', 'Drawn'], ['28', '125', 'Allan Border', 'Australia', '282', '2', 'England', '28 November 1986', 'Drawn'], ['29', '102', 'Dean Jones', 'Australia', '174', '1', 'Sri Lanka', '12 February 1988', 'Won'], ['30', '146', 'Viv Richards', 'West Indies', '150', '1', 'Australia', '2 December 1988', 'Won'], ['31', '111', 'Graeme Wood', 'Australia', '176', '2', 'West Indies', '2 December 1988', 'Lost'], ['32', '100', 'Desmond Haynes', 'West Indies', '194', '3', 'Australia', '2 December 1988', 'Won'], ['33', '200', 'David Boon', 'Australia', '326', '1', 'New Zealand', '24 November 1989', 'Drawn'], ['34', '146*', 'Mark Greatbatch', 'New Zealand', '485', '3', 'Australia', '24 November 1989', 'Drawn'], ['35', '107', 'David Boon', 'Australia', '304', '1', 'India', '1 February 1992', 'Won'], ['36', '114', 'Sachin Tendulkar', 'India', '161', '2', 'Australia', '1 February 1992', 'Lost'], ['37', '150*', 'Dean Jones', 'Australia', '295', '3', 'India', '1 February 1992', 'Won'], ['38', '101', 'Tom Moody', 'Australia', '149', '3', 'India', '1 February 1992', 'Won'], ['39', '113*', 'Ian Healy', 'Australia', '181', '1', 'New Zealand', '12 November 1993', 'Drawn'], ['40', '143', 'Andrew Jones', 'New Zealand', '283', '2', 'Australia', '12 November 1993', 'Drawn'], ['41', '142*', 'Mark Taylor', 'Australia', '255', '3', 'New Zealand', '12 November 1993', 'Drawn'], ['42', '124', 'Michael Slater', 'Australia', '231', '1', 'England', '3 February 1995', 'Won'], ['43', '123', 'Graham Thorpe', 'England', '218', '2', 'Australia', '3 February 1995', 'Lost'], ['44', '115', 'Greg Blewett', 'Australia', '158', '3', 'England', '3 February 1995', 'Won'], ['45', '219', 'Michael Slater', 'Australia', '321', '2', 'Sri Lanka', '8 December 1995', 'Won'], ['46', '111', 'Mark Waugh', 'Australia', '223', '2', 'Sri Lanka', '8 December 1995', 'Won'], ['47', '119', 'Hashan Tillakaratne', 'Sri Lanka', '206', '3', 'Australia', '8 December 1995', 'Lost'], ['48', '132', 'Brian Lara', 'West Indies', '183', '2', 'Australia', '1 February 1997', 'Won'], ['49', '144', 'Justin Langer', 'Australia', '286', '2', 'Pakistan', '26 November 1999', 'Won'], ['50', '197', 'Ricky Ponting', 'Australia', '288', '2', 'Pakistan', '26 November 1999', 'Won'], ['51', '115', 'Ijaz Ahmed', 'Pakistan', '160', '3', 'Australia', '26 November 1999', 'Lost'], ['52', '119', 'Mark Waugh', 'Australia', '175', '2', 'West Indies', '1 December 2000', 'Won'], ['53', '104', 'Lou Vincent', 'New Zealand', '208', '1', 'Australia', '30 November 2001', 'Drawn'], ['54', '105', 'Stephen Fleming', 'New Zealand', '222', '1', 'Australia', '30 November 2001', 'Drawn'], ['55', '156*', 'Nathan Astle', 'New Zealand', '275', '1', 'Australia', '30 November 2001', 'Drawn'], ['56', '110', 'Adam Parore', 'New Zealand', '243', '1', 'Australia', '30 November 2001', 'Drawn'], ['57', '380', 'Matthew Hayden', 'Australia', '437', '1', 'Zimbabwe', '9 October 2003', 'Won'], ['58', '113*', 'Adam Gilchrist', 'Australia', '94', '1', 'Zimbabwe', '9 October 2003', 'Won'], ['59', '191', 'Justin Langer', 'Australia', '280', '1', 'Pakistan', '16 December 2004', 'Won'], ['60', '100*', 'Damien Martyn', 'Australia', '121', '3', 'Pakistan', '16 December 2004', 'Won'], ['61', '203*', 'Brad Hodge', 'Australia', '332', '3', 'South Africa', '16 December 2005', 'Drawn'], ['62', '102*', 'Jacques Rudolph', 'South Africa', '283', '4', 'Australia', '16 December 2005', 'Drawn'], ['63', '103', 'Michael Hussey', 'Australia', '156', '3', 'England', '14 December 2006', 'Won'], ['64', '135*', 'Michael Clarke', 'Australia', '164', '3', 'England', '14 December 2006', 'Won'], ['65', '102*', 'Adam Gilchrist', 'Australia', '59', '3', 'England', '14 December 2006', 'Won'], ['66', '116', 'Alastair Cook', 'England', '290', '4', 'Australia', '14 December 2006', 'Lost'], ['67', '108', 'Graeme Smith', 'South Africa', '147', '4', 'Australia', '17 December 2008', 'Won'], ['68', '106*', 'AB de Villiers', 'South Africa', '186', '4', 'Australia', '17 December 2008', 'Won'], ['69', '102', 'Chris Gayle', 'West Indies', '72', '2', 'Australia', '16 December 2009', 'Lost'], ['70', '116', 'Michael Hussey', 'Australia', '172', '3', 'England', '16 December 2010', 'Won'], ['71', '180', 'David Warner', 'Australia', '159', '2', 'India', '13 January 2012', 'Won'], ['72', '196', 'Hashim Amla', 'South Africa', '221', '3', 'Australia', '30 November 2012', 'Won'], ['73', '169', 'AB de Villiers', 'South Africa', '184', '3', 'Australia', '30 November 2012', 'Won'], ['74', '111', 'Steve Smith', 'Australia', '208', '1', 'England', '13 December 2013', 'Won'], ['75', '112', 'David Warner', 'Australia', '140', '3', 'England', '13 December 2013', 'Won'], ['76', '103', 'Shane Watson', 'Australia', '108', '3', 'England', '13 December 2013', 'Won'], ['77', '120', 'Ben Stokes', 'England', '195', '4', 'Australia', '13 December 2013', 'Lost'], ['78', '253', 'David Warner', 'Australia', '286', '1', 'New Zealand', '13 November 2015', 'Drawn'], ['79', '121', 'Usman Khawaja', 'Australia', '186', '1', 'New Zealand', '13 November 2015', 'Drawn'], ['80', '166', 'Kane Williamson', 'New Zealand', '250', '2', 'Australia', '13 November 2015', 'Drawn'], ['81', '290', 'Ross Taylor', 'New Zealand', '374', '2', 'Australia', '13 November 2015', 'Drawn'], ['82', '138', 'Steve Smith', 'Australia', '185', '3', 'New Zealand', '13 November 2015', 'Drawn'], ['83', '119', 'Adam Voges', 'Australia', '240', '3', 'New Zealand', '13 November 2015', 'Drawn'], ['84', '127', 'Dean Elgar', 'South Africa', '316', '3', 'Australia', '3 November 2016', 'Won'], ['85', '141', 'JP Duminy', 'South Africa', '225', '3', 'Australia', '3 November 2016', 'Won'], ['86', '140', 'Dawid Malan', 'England', '227', '1', 'Australia', '14 December 2017', 'Lost'], ['87', '119', 'Jonny Bairstow', 'England', '215', '1', 'Australia', '14 December 2017', 'Lost'], ['88', '239', 'Steve Smith', 'Australia', '399', '2', 'England', '14 December 2017', 'Won'], ['89', '181', 'Mitchell Marsh', 'Australia', '236', '2', 'England', '14 December 2017', 'Won']]\n"
     ]
    }
   ],
   "source": [
    "url = 'https://en.wikipedia.org/wiki/List_of_international_cricket_centuries_at_the_WACA_Ground'\n",
    "\n",
    "r = requests.get(url)\n",
    "html_doc = r.text\n",
    "# print(html_doc)\n",
    "soup = BeautifulSoup(html_doc) #Create soup\n",
    "table = soup.table #extract the first table component from the soup\n",
    "table_rows = table.find_all('tr') #find all tr tags inside that table\n",
    "rows = []\n",
    "for tr in table_rows: #accessing each row\n",
    "    tds = tr.find_all('td') #find all td tags inside the tr tags\n",
    "    row = []\n",
    "    name_index = 2 #player name column\n",
    "    count = 0\n",
    "    for td in tds: #accessing each column of a row\n",
    "        \n",
    "        if count == name_index:\n",
    "            row.append(td.text.strip(' (1/2) (2/3) (3/3) \\n \\t')) #strip extra things from the name column\n",
    "        \n",
    "        else:\n",
    "            row.append(td.text.strip()) #strip whitespaces from the columns\n",
    "            \n",
    "        count += 1\n",
    "    rows.append(row)\n",
    "print(rows)"
   ]
  },
  {
   "cell_type": "code",
   "execution_count": 3,
   "metadata": {},
   "outputs": [
    {
     "name": "stdout",
     "output_type": "stream",
     "text": [
      "['No.', 'Score', 'Player', 'Team', 'Balls', 'Inns.', 'Opposing team', 'Date', 'Result']\n"
     ]
    }
   ],
   "source": [
    "heads = []\n",
    "ths = table_rows[0].find_all('th') #find all the th(table heading) tags from the table\n",
    "for th in ths:\n",
    "    heads.append(th.text.strip()) #strip whitespaces\n",
    "print(heads)"
   ]
  },
  {
   "cell_type": "code",
   "execution_count": 4,
   "metadata": {},
   "outputs": [
    {
     "name": "stdout",
     "output_type": "stream",
     "text": [
      "   No. Score             Player          Team Balls Inns. Opposing team  \\\n",
      "0    1   131    Brian Luckhurst       England   301     1     Australia   \n",
      "1    2   171        Ian Redpath     Australia   372     2       England   \n",
      "2    3   108      Greg Chappell     Australia   218     2       England   \n",
      "3    4  115*        John Edrich       England   332     3     Australia   \n",
      "4    5   115       Ross Edwards     Australia   252     2       England   \n",
      "5    6   103       Doug Walters     Australia   119     2       England   \n",
      "6    7   156       Ian Chappell     Australia   261     1   West Indies   \n",
      "7    8   169     Roy Fredericks   West Indies   145     2     Australia   \n",
      "8    9   149        Clive Lloyd   West Indies   186     2     Australia   \n",
      "9   10   176        Bob Simpson     Australia   355     2         India   \n",
      "10  11   127     Sunil Gavaskar         India   245     3     Australia   \n",
      "11  12   100  Mohinder Amarnath         India   175     3     Australia   \n",
      "12  13   105          Tony Mann     Australia   165     4         India   \n",
      "13  14   102        David Gower       England   221     1     Australia   \n",
      "14  15  129*      Javed Miandad      Pakistan   276     1     Australia   \n",
      "15  16  134*         Asif Iqbal      Pakistan   280     3     Australia   \n",
      "16  17   115       Allan Border     Australia   296     3       England   \n",
      "17  18   106         Kim Hughes     Australia   198     3      Pakistan   \n",
      "18  19   117      Greg Chappell     Australia   174     2       England   \n",
      "19  20   115      Derek Randall       England   215     3     Australia   \n",
      "20  21   159     Wayne Phillips     Australia   246     1      Pakistan   \n",
      "21  22   141      Graham Yallop     Australia   274     1      Pakistan   \n",
      "22  23   127        Larry Gomes   West Indies   297     1     Australia   \n",
      "23  24   139         Jeff Dujon   West Indies   158     1     Australia   \n",
      "24  25   162        Chris Broad       England   313     1     Australia   \n",
      "25  26   136        David Gower       England   175     1     Australia   \n",
      "26  27   133      Jack Richards       England   207     1     Australia   \n",
      "27  28   125       Allan Border     Australia   282     2       England   \n",
      "28  29   102         Dean Jones     Australia   174     1     Sri Lanka   \n",
      "29  30   146       Viv Richards   West Indies   150     1     Australia   \n",
      "..  ..   ...                ...           ...   ...   ...           ...   \n",
      "59  60  100*      Damien Martyn     Australia   121     3      Pakistan   \n",
      "60  61  203*         Brad Hodge     Australia   332     3  South Africa   \n",
      "61  62  102*    Jacques Rudolph  South Africa   283     4     Australia   \n",
      "62  63   103     Michael Hussey     Australia   156     3       England   \n",
      "63  64  135*     Michael Clarke     Australia   164     3       England   \n",
      "64  65  102*     Adam Gilchrist     Australia    59     3       England   \n",
      "65  66   116      Alastair Cook       England   290     4     Australia   \n",
      "66  67   108       Graeme Smith  South Africa   147     4     Australia   \n",
      "67  68  106*     AB de Villiers  South Africa   186     4     Australia   \n",
      "68  69   102        Chris Gayle   West Indies    72     2     Australia   \n",
      "69  70   116     Michael Hussey     Australia   172     3       England   \n",
      "70  71   180       David Warner     Australia   159     2         India   \n",
      "71  72   196        Hashim Amla  South Africa   221     3     Australia   \n",
      "72  73   169     AB de Villiers  South Africa   184     3     Australia   \n",
      "73  74   111        Steve Smith     Australia   208     1       England   \n",
      "74  75   112       David Warner     Australia   140     3       England   \n",
      "75  76   103       Shane Watson     Australia   108     3       England   \n",
      "76  77   120         Ben Stokes       England   195     4     Australia   \n",
      "77  78   253       David Warner     Australia   286     1   New Zealand   \n",
      "78  79   121      Usman Khawaja     Australia   186     1   New Zealand   \n",
      "79  80   166    Kane Williamson   New Zealand   250     2     Australia   \n",
      "80  81   290        Ross Taylor   New Zealand   374     2     Australia   \n",
      "81  82   138        Steve Smith     Australia   185     3   New Zealand   \n",
      "82  83   119         Adam Voges     Australia   240     3   New Zealand   \n",
      "83  84   127         Dean Elgar  South Africa   316     3     Australia   \n",
      "84  85   141          JP Duminy  South Africa   225     3     Australia   \n",
      "85  86   140        Dawid Malan       England   227     1     Australia   \n",
      "86  87   119     Jonny Bairstow       England   215     1     Australia   \n",
      "87  88   239        Steve Smith     Australia   399     2       England   \n",
      "88  89   181     Mitchell Marsh     Australia   236     2       England   \n",
      "\n",
      "                Date Result  \n",
      "0   11 December 1970  Drawn  \n",
      "1   11 December 1970  Drawn  \n",
      "2   11 December 1970  Drawn  \n",
      "3   11 December 1970  Drawn  \n",
      "4   13 December 1974    Won  \n",
      "5   13 December 1974    Won  \n",
      "6   12 December 1975   Lost  \n",
      "7   12 December 1975    Won  \n",
      "8   12 December 1975    Won  \n",
      "9   16 December 1977    Won  \n",
      "10  16 December 1977   Lost  \n",
      "11  16 December 1977   Lost  \n",
      "12  16 December 1977    Won  \n",
      "13  15 December 1978    Won  \n",
      "14     24 March 1979   Lost  \n",
      "15     24 March 1979   Lost  \n",
      "16  14 December 1979    Won  \n",
      "17  13 November 1981    Won  \n",
      "18  12 November 1982  Drawn  \n",
      "19  12 November 1982  Drawn  \n",
      "20  11 November 1983    Won  \n",
      "21  11 November 1983    Won  \n",
      "22   9 November 1984    Won  \n",
      "23   9 November 1984    Won  \n",
      "24  28 November 1986  Drawn  \n",
      "25  28 November 1986  Drawn  \n",
      "26  28 November 1986  Drawn  \n",
      "27  28 November 1986  Drawn  \n",
      "28  12 February 1988    Won  \n",
      "29   2 December 1988    Won  \n",
      "..               ...    ...  \n",
      "59  16 December 2004    Won  \n",
      "60  16 December 2005  Drawn  \n",
      "61  16 December 2005  Drawn  \n",
      "62  14 December 2006    Won  \n",
      "63  14 December 2006    Won  \n",
      "64  14 December 2006    Won  \n",
      "65  14 December 2006   Lost  \n",
      "66  17 December 2008    Won  \n",
      "67  17 December 2008    Won  \n",
      "68  16 December 2009   Lost  \n",
      "69  16 December 2010    Won  \n",
      "70   13 January 2012    Won  \n",
      "71  30 November 2012    Won  \n",
      "72  30 November 2012    Won  \n",
      "73  13 December 2013    Won  \n",
      "74  13 December 2013    Won  \n",
      "75  13 December 2013    Won  \n",
      "76  13 December 2013   Lost  \n",
      "77  13 November 2015  Drawn  \n",
      "78  13 November 2015  Drawn  \n",
      "79  13 November 2015  Drawn  \n",
      "80  13 November 2015  Drawn  \n",
      "81  13 November 2015  Drawn  \n",
      "82  13 November 2015  Drawn  \n",
      "83   3 November 2016    Won  \n",
      "84   3 November 2016    Won  \n",
      "85  14 December 2017   Lost  \n",
      "86  14 December 2017   Lost  \n",
      "87  14 December 2017    Won  \n",
      "88  14 December 2017    Won  \n",
      "\n",
      "[89 rows x 9 columns]\n"
     ]
    }
   ],
   "source": [
    "df = pd.DataFrame(rows, columns=heads) #create dataframe using the row data extracted to the list and set columns as headings extracted\n",
    "df.drop(0,inplace=True) #drop the 1st row, inplace performs the action on the same data frame\n",
    "df.reset_index(inplace=True,drop=True) #reset the index so it starts from 0\n",
    "print(df) #print the data frame"
   ]
  },
  {
   "cell_type": "code",
   "execution_count": 5,
   "metadata": {},
   "outputs": [],
   "source": [
    "df.to_csv('waca_test_centuries.csv', sep=',',index=False) #save the dataframe as a csv file"
   ]
  },
  {
   "cell_type": "code",
   "execution_count": null,
   "metadata": {},
   "outputs": [],
   "source": []
  }
 ],
 "metadata": {
  "kernelspec": {
   "display_name": "Python 3",
   "language": "python",
   "name": "python3"
  },
  "language_info": {
   "codemirror_mode": {
    "name": "ipython",
    "version": 3
   },
   "file_extension": ".py",
   "mimetype": "text/x-python",
   "name": "python",
   "nbconvert_exporter": "python",
   "pygments_lexer": "ipython3",
   "version": "3.7.3"
  }
 },
 "nbformat": 4,
 "nbformat_minor": 2
}
